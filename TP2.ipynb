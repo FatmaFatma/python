{
  "nbformat": 4,
  "nbformat_minor": 0,
  "metadata": {
    "colab": {
      "name": "TP2.ipynb",
      "provenance": [],
      "collapsed_sections": [],
      "authorship_tag": "ABX9TyPI31V6hIpAo2G558sIOyXb",
      "include_colab_link": true
    },
    "kernelspec": {
      "name": "python3",
      "display_name": "Python 3"
    },
    "language_info": {
      "name": "python"
    }
  },
  "cells": [
    {
      "cell_type": "markdown",
      "metadata": {
        "id": "view-in-github",
        "colab_type": "text"
      },
      "source": [
        "<a href=\"https://colab.research.google.com/github/FatmaFatma/python/blob/main/TP2.ipynb\" target=\"_parent\"><img src=\"https://colab.research.google.com/assets/colab-badge.svg\" alt=\"Open In Colab\"/></a>"
      ]
    },
    {
      "cell_type": "code",
      "execution_count": 2,
      "metadata": {
        "colab": {
          "base_uri": "https://localhost:8080/"
        },
        "id": "BQNS7xyOWSOF",
        "outputId": "c30c60bb-75f7-4339-876a-607245eae4ad"
      },
      "outputs": [
        {
          "output_type": "stream",
          "name": "stdout",
          "text": [
            "donner le rayon de cone:1.2\n",
            "donner l'hauteur de cone: 5.8\n",
            "8.74176\n"
          ]
        }
      ],
      "source": [
        "#exercice N° 1\n",
        "rayon=float(input(\"donner le rayon de cone:\"))\n",
        "hauteur=float(input(\"donner l'hauteur de cone: \"))\n",
        "volume=(1/3)*3.14*rayon**2*hauteur\n",
        "print(volume)"
      ]
    },
    {
      "cell_type": "code",
      "source": [
        "#exercice N° 3\n",
        "n=int(input(\"donner un entier:\"))\n",
        "valeur=n+n*10+n+n*100+n*10+n\n",
        "print(valeur)"
      ],
      "metadata": {
        "colab": {
          "base_uri": "https://localhost:8080/"
        },
        "id": "MHGifIfldi84",
        "outputId": "368e5ff8-d729-45b1-c9fa-433b80c609ba"
      },
      "execution_count": 3,
      "outputs": [
        {
          "output_type": "stream",
          "name": "stdout",
          "text": [
            "donner un entier:5\n",
            "615\n"
          ]
        }
      ]
    },
    {
      "cell_type": "code",
      "source": [
        "#exercice N° 4\n",
        "x=input()\n",
        "y=input()\n",
        "z=(x+y)**2\n",
        "print(z)"
      ],
      "metadata": {
        "colab": {
          "base_uri": "https://localhost:8080/",
          "height": 252
        },
        "id": "UF7eLqvldrfI",
        "outputId": "19826db7-982d-4a9a-b152-79b23ce2ca42"
      },
      "execution_count": 4,
      "outputs": [
        {
          "name": "stdout",
          "output_type": "stream",
          "text": [
            "5\n",
            "1.2\n"
          ]
        },
        {
          "output_type": "error",
          "ename": "TypeError",
          "evalue": "ignored",
          "traceback": [
            "\u001b[0;31m---------------------------------------------------------------------------\u001b[0m",
            "\u001b[0;31mTypeError\u001b[0m                                 Traceback (most recent call last)",
            "\u001b[0;32m<ipython-input-4-e552dff4b645>\u001b[0m in \u001b[0;36m<module>\u001b[0;34m()\u001b[0m\n\u001b[1;32m      2\u001b[0m \u001b[0mx\u001b[0m\u001b[0;34m=\u001b[0m\u001b[0minput\u001b[0m\u001b[0;34m(\u001b[0m\u001b[0;34m)\u001b[0m\u001b[0;34m\u001b[0m\u001b[0;34m\u001b[0m\u001b[0m\n\u001b[1;32m      3\u001b[0m \u001b[0my\u001b[0m\u001b[0;34m=\u001b[0m\u001b[0minput\u001b[0m\u001b[0;34m(\u001b[0m\u001b[0;34m)\u001b[0m\u001b[0;34m\u001b[0m\u001b[0;34m\u001b[0m\u001b[0m\n\u001b[0;32m----> 4\u001b[0;31m \u001b[0mz\u001b[0m\u001b[0;34m=\u001b[0m\u001b[0;34m(\u001b[0m\u001b[0mx\u001b[0m\u001b[0;34m+\u001b[0m\u001b[0my\u001b[0m\u001b[0;34m)\u001b[0m\u001b[0;34m**\u001b[0m\u001b[0;36m2\u001b[0m\u001b[0;34m\u001b[0m\u001b[0;34m\u001b[0m\u001b[0m\n\u001b[0m\u001b[1;32m      5\u001b[0m \u001b[0mprint\u001b[0m\u001b[0;34m(\u001b[0m\u001b[0mz\u001b[0m\u001b[0;34m)\u001b[0m\u001b[0;34m\u001b[0m\u001b[0;34m\u001b[0m\u001b[0m\n",
            "\u001b[0;31mTypeError\u001b[0m: unsupported operand type(s) for ** or pow(): 'str' and 'int'"
          ]
        }
      ]
    },
    {
      "cell_type": "code",
      "source": [
        "#exercie 4 correction\n",
        "x=float(input())\n",
        "y=float(input())\n",
        "z=(x+y)**2\n",
        "print(z)\n"
      ],
      "metadata": {
        "colab": {
          "base_uri": "https://localhost:8080/"
        },
        "id": "1uBg_UTid1n3",
        "outputId": "2c71694e-94e6-48b5-c794-bb1ff8533d54"
      },
      "execution_count": 5,
      "outputs": [
        {
          "output_type": "stream",
          "name": "stdout",
          "text": [
            "5\n",
            "1.2\n",
            "38.440000000000005\n"
          ]
        }
      ]
    },
    {
      "cell_type": "code",
      "source": [
        "#exercice N° 5\n",
        "s=int(input(\"nombre des secondes:\"))\n",
        "j=s//86400\n",
        "h=(s-j*86400)//3600\n",
        "m=(s-j*86400-h*3600)//60\n",
        "reste=s-j*86400-h*3600-m*60\n",
        "print(j)\n",
        "print(h)\n",
        "print(m)\n",
        "print(reste)"
      ],
      "metadata": {
        "colab": {
          "base_uri": "https://localhost:8080/"
        },
        "id": "H4cuin4xd9M9",
        "outputId": "56d3f48f-2abd-4637-def9-e4eddf756f27"
      },
      "execution_count": 6,
      "outputs": [
        {
          "output_type": "stream",
          "name": "stdout",
          "text": [
            "nombre des secondes:95000\n",
            "1\n",
            "2\n",
            "23\n",
            "20\n"
          ]
        }
      ]
    },
    {
      "cell_type": "code",
      "source": [
        "#exercice N° 6\n",
        "x=int(input(\"nombre à quatre chiffres:\"))\n",
        "a=x//1000\n",
        "b=(x-a*1000)//100\n",
        "c=(x-a*1000-b*100)//10\n",
        "d=x-a*1000-b*100-c*10\n",
        "somme_chiffres=a+b+c+d\n",
        "print(somme_chiffres)"
      ],
      "metadata": {
        "colab": {
          "base_uri": "https://localhost:8080/"
        },
        "id": "5g-cWk4FeFi2",
        "outputId": "9132e0e5-b622-4614-cc13-25bef9e25de8"
      },
      "execution_count": 7,
      "outputs": [
        {
          "output_type": "stream",
          "name": "stdout",
          "text": [
            "nombre à quatre chiffres:5245\n",
            "16\n"
          ]
        }
      ]
    }
  ]
}