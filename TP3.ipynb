{
  "nbformat": 4,
  "nbformat_minor": 0,
  "metadata": {
    "colab": {
      "name": "TP3.ipynb",
      "provenance": [],
      "collapsed_sections": [],
      "authorship_tag": "ABX9TyOogoLzY4iY50X5gNbX51DR",
      "include_colab_link": true
    },
    "kernelspec": {
      "name": "python3",
      "display_name": "Python 3"
    },
    "language_info": {
      "name": "python"
    }
  },
  "cells": [
    {
      "cell_type": "markdown",
      "metadata": {
        "id": "view-in-github",
        "colab_type": "text"
      },
      "source": [
        "<a href=\"https://colab.research.google.com/github/FatmaFatma/python/blob/main/TP3.ipynb\" target=\"_parent\"><img src=\"https://colab.research.google.com/assets/colab-badge.svg\" alt=\"Open In Colab\"/></a>"
      ]
    },
    {
      "cell_type": "code",
      "execution_count": null,
      "metadata": {
        "colab": {
          "base_uri": "https://localhost:8080/"
        },
        "id": "I9_rSZiYyvFf",
        "outputId": "f790471d-25eb-4654-e95a-1de0a5ec4685"
      },
      "outputs": [
        {
          "output_type": "stream",
          "name": "stdout",
          "text": [
            "donner une chaine des caracteres:ramasserr\n",
            "ramasse**\n"
          ]
        }
      ],
      "source": [
        "#Exercice N°1\n",
        "ch=input(\"donner une chaine des caracteres:\")\n",
        "ch1=ch.replace(ch[0],\"*\")\n",
        "ch=ch[0]+ch1[1:]\n",
        "print(ch)\n",
        "\n",
        "  \n"
      ]
    },
    {
      "cell_type": "code",
      "source": [
        "#Exercice N°2\n",
        "ch1=input(\"donner la premiere chaine:\")\n",
        "ch2=input(\"donner la deuxieme chaine:\")\n",
        "ch3=ch2[0:2]+ch1[2:]+ch1[0:2]+ch2[2:]\n",
        "print(ch3)"
      ],
      "metadata": {
        "colab": {
          "base_uri": "https://localhost:8080/"
        },
        "id": "SYH54-tv2Fcr",
        "outputId": "98972fde-80d2-46bf-9336-691edeb8029e"
      },
      "execution_count": null,
      "outputs": [
        {
          "output_type": "stream",
          "name": "stdout",
          "text": [
            "donner la premiere chaine:abc\n",
            "donner la deuxieme chaine:xyz\n",
            "xycabz\n"
          ]
        }
      ]
    },
    {
      "cell_type": "code",
      "source": [
        "#Exercice N°3 part 1\n",
        "chaine=input(\"donner une chaine:\")\n",
        "n=int(input(\"donner l'indice de caractere à supprimer:\"))\n",
        "chaine=chaine[:n]+chaine[n+1:]\n",
        "print(chaine)"
      ],
      "metadata": {
        "colab": {
          "base_uri": "https://localhost:8080/"
        },
        "id": "Yu585V_x4JDj",
        "outputId": "98000054-06ae-4968-b750-cbf8e5a0471f"
      },
      "execution_count": null,
      "outputs": [
        {
          "output_type": "stream",
          "name": "stdout",
          "text": [
            "donner une chaine:python\n",
            "donner l'indice de caractere à supprimer:2\n",
            "pyhon\n"
          ]
        }
      ]
    },
    {
      "cell_type": "code",
      "source": [
        "#Exercice N°3 part 2\n",
        "chaine1=input(\"donner une chaine:\")\n",
        "l=len(chaine1)\n",
        "chaine1=chaine1[l-1]+chaine1[1:l-2]+chaine1[0]\n",
        "print(chaine1)"
      ],
      "metadata": {
        "colab": {
          "base_uri": "https://localhost:8080/"
        },
        "id": "LJ9BfaEj5aTh",
        "outputId": "028610e8-9d49-430a-b169-f9d53cfd6352"
      },
      "execution_count": null,
      "outputs": [
        {
          "output_type": "stream",
          "name": "stdout",
          "text": [
            "donner une chaine:bonjour\n",
            "ronjob\n"
          ]
        }
      ]
    },
    {
      "cell_type": "code",
      "source": [
        "#Exercice N°4\n",
        "txt='''Python est le langage de programmation open source le plus\n",
        "employé par les informaticiens. Ce langage s’est propulsé en tête de la\n",
        "gestion d’infrastructure, d’analyse de données ou dans le domaine du\n",
        "développement de logiciels. En effet, parmi ses qualités, Python permet\n",
        "notamment aux développeurs de se concentrer sur ce qu’ils font plutôt\n",
        "que sur la manière dont ils le font. Il a libéré les développeurs des\n",
        "contraintes de formes qui occupaient leur temps avec les langages plus\n",
        "anciens. Ainsi, développer du code avec Python est plus rapide qu’avec d’autres'''\n",
        "print(txt) #q1\n",
        "len(txt) #q2 taille chaine\n",
        "print(txt.split()) #q3 liste des mots\n",
        "type(txt.split()) #q4 type\n",
        "t=txt.replace(\"\\n\",\" \")\n",
        "print(t.split(\"le\")) #q5 split selon \"le\" \n",
        "print(txt.split(\".\")) #q6 phrases\n",
        "print(txt.upper()) #q7 majuscule\n",
        "print(txt.lower()) #q7 minuscule\n",
        "print(txt.startswith(\"Py\"))\n",
        "print(txt.endswith(\"ga\")) #q8\n",
        "txt1=\"Dans cette formation on va voir à quoi peut servir Python.\\n\"\n",
        "print(txt1+txt) #q9 ajpot phrase\n",
        "txt.find(\"programmation\") #q10 cherche position mot\n",
        "print(txt.replace(\"domaine\",\"secteur\"))  #q13 remplacer mot par mot"
      ],
      "metadata": {
        "colab": {
          "base_uri": "https://localhost:8080/"
        },
        "id": "Tifar3R6nMNA",
        "outputId": "33cc2158-c6ed-4111-82e6-b801a391e190"
      },
      "execution_count": 22,
      "outputs": [
        {
          "output_type": "stream",
          "name": "stdout",
          "text": [
            "Python est le langage de programmation open source le plus\n",
            "employé par les informaticiens. Ce langage s’est propulsé en tête de la\n",
            "gestion d’infrastructure, d’analyse de données ou dans le domaine du\n",
            "développement de logiciels. En effet, parmi ses qualités, Python permet\n",
            "notamment aux développeurs de se concentrer sur ce qu’ils font plutôt\n",
            "que sur la manière dont ils le font. Il a libéré les développeurs des\n",
            "contraintes de formes qui occupaient leur temps avec les langages plus\n",
            "anciens. Ainsi, développer du code avec Python est plus rapide qu’avec d’autres\n",
            "['Python', 'est', 'le', 'langage', 'de', 'programmation', 'open', 'source', 'le', 'plus', 'employé', 'par', 'les', 'informaticiens.', 'Ce', 'langage', 's’est', 'propulsé', 'en', 'tête', 'de', 'la', 'gestion', 'd’infrastructure,', 'd’analyse', 'de', 'données', 'ou', 'dans', 'le', 'domaine', 'du', 'développement', 'de', 'logiciels.', 'En', 'effet,', 'parmi', 'ses', 'qualités,', 'Python', 'permet', 'notamment', 'aux', 'développeurs', 'de', 'se', 'concentrer', 'sur', 'ce', 'qu’ils', 'font', 'plutôt', 'que', 'sur', 'la', 'manière', 'dont', 'ils', 'le', 'font.', 'Il', 'a', 'libéré', 'les', 'développeurs', 'des', 'contraintes', 'de', 'formes', 'qui', 'occupaient', 'leur', 'temps', 'avec', 'les', 'langages', 'plus', 'anciens.', 'Ainsi,', 'développer', 'du', 'code', 'avec', 'Python', 'est', 'plus', 'rapide', 'qu’avec', 'd’autres']\n",
            "['Python est ', ' langage de programmation open source ', ' plus employé par ', 's informaticiens. Ce langage s’est propulsé en tête de la gestion d’infrastructure, d’analyse de données ou dans ', ' domaine du développement de logiciels. En effet, parmi ses qualités, Python permet notamment aux développeurs de se concentrer sur ce qu’ils font plutôt que sur la manière dont ils ', ' font. Il a libéré ', 's développeurs des contraintes de formes qui occupaient ', 'ur temps avec ', 's langages plus anciens. Ainsi, développer du code avec Python est plus rapide qu’avec d’autres']\n",
            "['Python est le langage de programmation open source le plus\\nemployé par les informaticiens', ' Ce langage s’est propulsé en tête de la\\ngestion d’infrastructure, d’analyse de données ou dans le domaine du\\ndéveloppement de logiciels', ' En effet, parmi ses qualités, Python permet\\nnotamment aux développeurs de se concentrer sur ce qu’ils font plutôt\\nque sur la manière dont ils le font', ' Il a libéré les développeurs des\\ncontraintes de formes qui occupaient leur temps avec les langages plus\\nanciens', ' Ainsi, développer du code avec Python est plus rapide qu’avec d’autres']\n",
            "PYTHON EST LE LANGAGE DE PROGRAMMATION OPEN SOURCE LE PLUS\n",
            "EMPLOYÉ PAR LES INFORMATICIENS. CE LANGAGE S’EST PROPULSÉ EN TÊTE DE LA\n",
            "GESTION D’INFRASTRUCTURE, D’ANALYSE DE DONNÉES OU DANS LE DOMAINE DU\n",
            "DÉVELOPPEMENT DE LOGICIELS. EN EFFET, PARMI SES QUALITÉS, PYTHON PERMET\n",
            "NOTAMMENT AUX DÉVELOPPEURS DE SE CONCENTRER SUR CE QU’ILS FONT PLUTÔT\n",
            "QUE SUR LA MANIÈRE DONT ILS LE FONT. IL A LIBÉRÉ LES DÉVELOPPEURS DES\n",
            "CONTRAINTES DE FORMES QUI OCCUPAIENT LEUR TEMPS AVEC LES LANGAGES PLUS\n",
            "ANCIENS. AINSI, DÉVELOPPER DU CODE AVEC PYTHON EST PLUS RAPIDE QU’AVEC D’AUTRES\n",
            "python est le langage de programmation open source le plus\n",
            "employé par les informaticiens. ce langage s’est propulsé en tête de la\n",
            "gestion d’infrastructure, d’analyse de données ou dans le domaine du\n",
            "développement de logiciels. en effet, parmi ses qualités, python permet\n",
            "notamment aux développeurs de se concentrer sur ce qu’ils font plutôt\n",
            "que sur la manière dont ils le font. il a libéré les développeurs des\n",
            "contraintes de formes qui occupaient leur temps avec les langages plus\n",
            "anciens. ainsi, développer du code avec python est plus rapide qu’avec d’autres\n",
            "True\n",
            "False\n",
            "Dans cette formation on va voir à quoi peut servir Python.\n",
            "Python est le langage de programmation open source le plus\n",
            "employé par les informaticiens. Ce langage s’est propulsé en tête de la\n",
            "gestion d’infrastructure, d’analyse de données ou dans le domaine du\n",
            "développement de logiciels. En effet, parmi ses qualités, Python permet\n",
            "notamment aux développeurs de se concentrer sur ce qu’ils font plutôt\n",
            "que sur la manière dont ils le font. Il a libéré les développeurs des\n",
            "contraintes de formes qui occupaient leur temps avec les langages plus\n",
            "anciens. Ainsi, développer du code avec Python est plus rapide qu’avec d’autres\n",
            "Python est le langage de programmation open source le plus\n",
            "employé par les informaticiens. Ce langage s’est propulsé en tête de la\n",
            "gestion d’infrastructure, d’analyse de données ou dans le secteur du\n",
            "développement de logiciels. En effet, parmi ses qualités, Python permet\n",
            "notamment aux développeurs de se concentrer sur ce qu’ils font plutôt\n",
            "que sur la manière dont ils le font. Il a libéré les développeurs des\n",
            "contraintes de formes qui occupaient leur temps avec les langages plus\n",
            "anciens. Ainsi, développer du code avec Python est plus rapide qu’avec d’autres\n"
          ]
        }
      ]
    }
  ]
}