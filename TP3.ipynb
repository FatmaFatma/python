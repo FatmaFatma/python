{
  "nbformat": 4,
  "nbformat_minor": 0,
  "metadata": {
    "colab": {
      "name": "TP3.ipynb",
      "provenance": [],
      "authorship_tag": "ABX9TyMcQcxN4FjjINyvc4lmiWo/",
      "include_colab_link": true
    },
    "kernelspec": {
      "name": "python3",
      "display_name": "Python 3"
    },
    "language_info": {
      "name": "python"
    }
  },
  "cells": [
    {
      "cell_type": "markdown",
      "metadata": {
        "id": "view-in-github",
        "colab_type": "text"
      },
      "source": [
        "<a href=\"https://colab.research.google.com/github/FatmaFatma/python/blob/main/TP3.ipynb\" target=\"_parent\"><img src=\"https://colab.research.google.com/assets/colab-badge.svg\" alt=\"Open In Colab\"/></a>"
      ]
    },
    {
      "cell_type": "code",
      "execution_count": 4,
      "metadata": {
        "colab": {
          "base_uri": "https://localhost:8080/"
        },
        "id": "I9_rSZiYyvFf",
        "outputId": "f790471d-25eb-4654-e95a-1de0a5ec4685"
      },
      "outputs": [
        {
          "output_type": "stream",
          "name": "stdout",
          "text": [
            "donner une chaine des caracteres:ramasserr\n",
            "ramasse**\n"
          ]
        }
      ],
      "source": [
        "#Exercice N°1\n",
        "ch=input(\"donner une chaine des caracteres:\")\n",
        "ch1=ch.replace(ch[0],\"*\")\n",
        "ch=ch[0]+ch1[1:]\n",
        "print(ch)\n",
        "\n",
        "  \n"
      ]
    },
    {
      "cell_type": "code",
      "source": [
        "#Exercice N°2\n",
        "ch1=input(\"donner la premiere chaine:\")\n",
        "ch2=input(\"donner la deuxieme chaine:\")\n",
        "ch3=ch2[0:2]+ch1[2:]+ch1[0:2]+ch2[2:]\n",
        "print(ch3)"
      ],
      "metadata": {
        "colab": {
          "base_uri": "https://localhost:8080/"
        },
        "id": "SYH54-tv2Fcr",
        "outputId": "98972fde-80d2-46bf-9336-691edeb8029e"
      },
      "execution_count": 11,
      "outputs": [
        {
          "output_type": "stream",
          "name": "stdout",
          "text": [
            "donner la premiere chaine:abc\n",
            "donner la deuxieme chaine:xyz\n",
            "xycabz\n"
          ]
        }
      ]
    },
    {
      "cell_type": "code",
      "source": [
        "#Exercice N°3 part 1\n",
        "chaine=input(\"donner une chaine:\")\n",
        "n=int(input(\"donner l'indice de caractere à supprimer:\"))\n",
        "chaine=chaine[:n]+chaine[n+1:]\n",
        "print(chaine)"
      ],
      "metadata": {
        "colab": {
          "base_uri": "https://localhost:8080/"
        },
        "id": "Yu585V_x4JDj",
        "outputId": "98000054-06ae-4968-b750-cbf8e5a0471f"
      },
      "execution_count": 15,
      "outputs": [
        {
          "output_type": "stream",
          "name": "stdout",
          "text": [
            "donner une chaine:python\n",
            "donner l'indice de caractere à supprimer:2\n",
            "pyhon\n"
          ]
        }
      ]
    },
    {
      "cell_type": "code",
      "source": [
        "#Exercice N°3 part 2\n",
        "chaine1=input(\"donner une chaine:\")\n",
        "l=len(chaine1)\n",
        "chaine1=chaine1[l-1]+chaine1[1:l-2]+chaine1[0]\n",
        "print(chaine1)"
      ],
      "metadata": {
        "colab": {
          "base_uri": "https://localhost:8080/"
        },
        "id": "LJ9BfaEj5aTh",
        "outputId": "9b5d6ee8-43c0-4bc6-baf7-643bd4eaf4b2"
      },
      "execution_count": 16,
      "outputs": [
        {
          "output_type": "stream",
          "name": "stdout",
          "text": [
            "donner une chaine:Fatma\n",
            "aatF\n"
          ]
        }
      ]
    }
  ]
}