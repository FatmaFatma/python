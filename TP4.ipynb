{
  "nbformat": 4,
  "nbformat_minor": 0,
  "metadata": {
    "colab": {
      "name": "TP4.ipynb",
      "provenance": [],
      "collapsed_sections": [],
      "authorship_tag": "ABX9TyPU93DIVRw9/D9r3cZw9NEH",
      "include_colab_link": true
    },
    "kernelspec": {
      "name": "python3",
      "display_name": "Python 3"
    },
    "language_info": {
      "name": "python"
    }
  },
  "cells": [
    {
      "cell_type": "markdown",
      "metadata": {
        "id": "view-in-github",
        "colab_type": "text"
      },
      "source": [
        "<a href=\"https://colab.research.google.com/github/FatmaFatma/python/blob/main/TP4.ipynb\" target=\"_parent\"><img src=\"https://colab.research.google.com/assets/colab-badge.svg\" alt=\"Open In Colab\"/></a>"
      ]
    },
    {
      "cell_type": "code",
      "execution_count": null,
      "metadata": {
        "id": "FBOJ7mp5KH3A"
      },
      "outputs": [],
      "source": [
        "HT=-1\n",
        "while HT!=0:\n",
        "  HT=int(input(\"donner le prix HT:\"))\n",
        "  print(HT)\n",
        "  if HT>0:\n",
        "    TCC=HT+HT*19/100\n",
        "    print(TCC)\n",
        "\n",
        "\n",
        "\n",
        "\n",
        "\n",
        "\n",
        "\n"
      ]
    },
    {
      "cell_type": "code",
      "source": [
        "#Exercice 2\n",
        "x= 10 \n",
        "somme=0\n",
        "i=0\n",
        "while x!=0:\n",
        "  x=int(input(\"Donner un nombre positif:\"))\n",
        "  if x>0:\n",
        "     somme=somme+x\n",
        "     if x>=100:\n",
        "       i+=1\n",
        "\n",
        "print(somme)\n",
        "print(i)\n",
        " \n",
        "\n"
      ],
      "metadata": {
        "colab": {
          "base_uri": "https://localhost:8080/"
        },
        "id": "2aK2be1fOgQO",
        "outputId": "d7db3b0a-e8aa-4ee2-d20a-7619066a0286"
      },
      "execution_count": 13,
      "outputs": [
        {
          "output_type": "stream",
          "name": "stdout",
          "text": [
            "Donner un nombre positif:-2\n",
            "Donner un nombre positif:40\n",
            "Donner un nombre positif:100\n",
            "Donner un nombre positif:0\n",
            "140\n",
            "1\n"
          ]
        }
      ]
    },
    {
      "cell_type": "code",
      "source": [
        "#exercice 3\n",
        "n=-1\n",
        "while n<0:\n",
        "  n=int(input(\"Donner un nombre positif:\"))\n",
        "  if n>=0:\n",
        "    if n%2==0:\n",
        "       print(n,\"est pair\")\n",
        "    else:\n",
        "       print(n,\"est impair\")\n",
        "  \n",
        "  \n"
      ],
      "metadata": {
        "colab": {
          "base_uri": "https://localhost:8080/"
        },
        "id": "FAIu4LY1RCYb",
        "outputId": "274e2c7f-7be0-4a76-cf86-87c6692bde36"
      },
      "execution_count": 21,
      "outputs": [
        {
          "output_type": "stream",
          "name": "stdout",
          "text": [
            "Donner un nombre positif:-8\n",
            "Donner un nombre positif:9\n",
            "9 est impair\n"
          ]
        }
      ]
    },
    {
      "cell_type": "code",
      "source": [
        "#exercice 4\n",
        "x=-1\n",
        "i=0\n",
        "while x<0:\n",
        "  x=int(input(\"Donner un entier positif\"))\n",
        "  d=x\n",
        "  if d>0:\n",
        "    while d%2==0:\n",
        "      i+=1\n",
        "      d=d/2\n",
        "print(i)\n",
        "  \n",
        "  \n",
        " \n",
        "    "
      ],
      "metadata": {
        "colab": {
          "base_uri": "https://localhost:8080/"
        },
        "id": "ONwHiN0uTECB",
        "outputId": "c0b4963b-07ff-477d-d363-76538e77cdbd"
      },
      "execution_count": 25,
      "outputs": [
        {
          "output_type": "stream",
          "name": "stdout",
          "text": [
            "Donner un entier positif16\n",
            "4\n"
          ]
        }
      ]
    },
    {
      "cell_type": "code",
      "source": [
        "#exercice 5\n",
        "e=-1\n",
        "while e<=0:\n",
        "  e=int(input(\"donner un entier positif:\"))\n",
        "  if e>0:\n",
        "    d=0\n",
        "    liste=[]\n",
        "    for i in range(2,e):\n",
        "      if e%i==0:\n",
        "        liste1=[i]\n",
        "        liste=liste+liste1\n",
        "        d+=1\n",
        "    if d!=0:\n",
        "      print(\"Diviseurs propres sans répétition de\",e,\":\",liste)\n",
        "      print(d,\"diviseurs propres\")\n",
        "    else:\n",
        "      print(\"Diviseurs propres sans répétition de\",e,\": aucun! Il est premier\")\n",
        "   \n",
        "    "
      ],
      "metadata": {
        "colab": {
          "base_uri": "https://localhost:8080/"
        },
        "id": "UDIhtKJjVNkY",
        "outputId": "3d132a1d-4ff5-4ecb-867f-bc9d51483aae"
      },
      "execution_count": 41,
      "outputs": [
        {
          "output_type": "stream",
          "name": "stdout",
          "text": [
            "donner un entier positif:-2\n",
            "donner un entier positif:25\n",
            "Diviseurs propres sans répétition de 25 : [5]\n",
            "1 diviseurs propres\n"
          ]
        }
      ]
    }
  ]
}